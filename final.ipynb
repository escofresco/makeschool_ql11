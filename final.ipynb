{
 "cells": [
  {
   "cell_type": "code",
   "execution_count": 30,
   "metadata": {},
   "outputs": [],
   "source": [
    "from functools import reduce\n",
    "def mean(*arrays):\n",
    "    N = len(arrays[0])\n",
    "    if not all(len(array) == N for array in arrays):\n",
    "        raise ValueError(\"All arrays must have the same length.\")\n",
    "    elms_at_index_prod = lambda index: reduce(lambda x, y: x*y[index], arrays, 1) # product of all elements at index\n",
    "    return reduce(lambda x,y: (x[0]+elms_at_index_prod(x[1]), # update sum\n",
    "                               x[1]+1), # increment index by 1\n",
    "                  zip(*arrays), # flip arrays around so corresponding elements in each array are now in their own\n",
    "                  (0, 0))[0] / N # intialize to sum of zero and index of 0"
   ]
  },
  {
   "cell_type": "code",
   "execution_count": 43,
   "metadata": {},
   "outputs": [],
   "source": [
    "assert mean((1,1,1), (1,1,1)) == 1\n",
    "assert mean((1,2,3)) == 2"
   ]
  },
  {
   "cell_type": "code",
   "execution_count": 14,
   "metadata": {},
   "outputs": [],
   "source": [
    "def mse_slope_intercept(x, y):\n",
    "    \"\"\"Calculates Mean-Squared Error slope and intercept.\n",
    "    Returns: tuple(slope, intercept)\"\"\"\n",
    "    x_bar = mean(x)\n",
    "    y_bar = mean(y)\n",
    "    x_bar_sq = x_bar**2\n",
    "    x_sq_bar = mean(x, x)\n",
    "    x_y_bar = mean(x, y)\n",
    "    slope = (x_y_bar - x_bar*y_bar) / (x_sq_bar - x_bar_sq)\n",
    "    y_intercept = y_bar - x_bar*slope\n",
    "    return slope, y_intercept"
   ]
  },
  {
   "cell_type": "code",
   "execution_count": 40,
   "metadata": {},
   "outputs": [
    {
     "name": "stdout",
     "output_type": "stream",
     "text": [
      "(0.2516349442835528, 0.798801226175397)\n"
     ]
    }
   ],
   "source": [
    "import numpy as np\n",
    "import matplotlib.pyplot as plt\n",
    "\n",
    "# Running Distance in Mile\n",
    "x = np.array([3.3,4.4,5.5,6.71,6.93,4.168,9.779,6.182,7.59,2.167,\n",
    "                         7.042,10.791,5.313,7.997,5.654,9.27,3.1])\n",
    "\n",
    "# Water Drinks in Litre\n",
    "y = np.array([1.7,2.76,2.09,3.19,1.694,1.573,3.366,2.596,2.53,1.221,\n",
    "                         2.827,3.465,1.65,2.904,2.42,2.94,1.3])\n",
    "\n",
    "print(mse_slope_intercept(x,y))"
   ]
  },
  {
   "cell_type": "code",
   "execution_count": null,
   "metadata": {},
   "outputs": [],
   "source": [
    "\n",
    "    "
   ]
  }
 ],
 "metadata": {
  "kernelspec": {
   "display_name": "Python 3",
   "language": "python",
   "name": "python3"
  },
  "language_info": {
   "codemirror_mode": {
    "name": "ipython",
    "version": 3
   },
   "file_extension": ".py",
   "mimetype": "text/x-python",
   "name": "python",
   "nbconvert_exporter": "python",
   "pygments_lexer": "ipython3",
   "version": "3.8.1"
  }
 },
 "nbformat": 4,
 "nbformat_minor": 4
}
