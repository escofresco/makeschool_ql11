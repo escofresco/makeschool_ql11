{
 "cells": [
  {
   "cell_type": "code",
   "execution_count": 4,
   "metadata": {},
   "outputs": [],
   "source": [
    "f_add = lambda x,y: x+y\n",
    "print(f_add(3,3))"
   ]
  },
  {
   "cell_type": "markdown",
   "metadata": {},
   "source": [
    "${\\bar x} = \\frac{1}{N} \\sum_{i=0}^{N-1}x_i$ <img src=\"https://jupyter.org/assets/main-logo.svg\" />"
   ]
  },
  {
   "cell_type": "code",
   "execution_count": 2,
   "metadata": {},
   "outputs": [],
   "source": [
    "import dill\n",
    "import pandas as pd\n",
    "\n",
    "df = pd.read_csv('titanic.csv')\n",
    "ls_age = df['Age'].dropna().values\n",
    "\n",
    "dill.dump_session('titanic_session.db')"
   ]
  },
  {
   "cell_type": "code",
   "execution_count": 1,
   "metadata": {},
   "outputs": [],
   "source": [
    "import dill\n",
    "dill.load_session('titanic_session.db')"
   ]
  },
  {
   "cell_type": "code",
   "execution_count": 119,
   "metadata": {},
   "outputs": [
    {
     "name": "stdout",
     "output_type": "stream",
     "text": [
      "0.35241301907968575\n"
     ]
    }
   ],
   "source": [
    "import functools\n",
    "\n",
    "import numpy as np\n",
    "\n",
    "avg_ = lambda arr: sum(arr) / len(arr)\n",
    "avg = lambda arr: functools.reduce(lambda x,y: x+y, arr) / functools.reduce(lambda x,y: x+1, arr, 0)\n",
    "\n",
    "assert avg_(ls_age) == avg(ls_age)\n",
    "\n",
    "ls_gender = df['Sex']\n",
    "females = np.array(list(filter(lambda elm: True if elm == 'female' else False, ls_gender)))\n",
    "female_count = females.shape[0]\n",
    "female_ratio = female_count / len(ls_gender)\n",
    "print(female_ratio)\n",
    "\n",
    "\n",
    "def counts(arr):\n",
    "    res = {}\n",
    "    for val in arr:\n",
    "        res[val] = res.get(val, 0) + 1\n",
    "\n",
    "age_sex = pd.DataFrame(df, columns=['Age', 'Sex'])"
   ]
  },
  {
   "cell_type": "code",
   "execution_count": 142,
   "metadata": {},
   "outputs": [
    {
     "name": "stdout",
     "output_type": "stream",
     "text": [
      "27.915708812260537\n"
     ]
    }
   ],
   "source": [
    "age_female = np.array(list(filter(lambda elm: elm[1] == 'female' and not np.isnan(elm[0]), zip(age_sex['Age'], age_sex['Sex']))))\n",
    "avg_female_age = avg(list(map(float, age_female[:, 0])))\n",
    "print(avg_female_age)"
   ]
  },
  {
   "cell_type": "code",
   "execution_count": null,
   "metadata": {},
   "outputs": [],
   "source": []
  }
 ],
 "metadata": {
  "kernelspec": {
   "display_name": "Python 3",
   "language": "python",
   "name": "python3"
  },
  "language_info": {
   "codemirror_mode": {
    "name": "ipython",
    "version": 3
   },
   "file_extension": ".py",
   "mimetype": "text/x-python",
   "name": "python",
   "nbconvert_exporter": "python",
   "pygments_lexer": "ipython3",
   "version": "3.7.3"
  }
 },
 "nbformat": 4,
 "nbformat_minor": 4
}
