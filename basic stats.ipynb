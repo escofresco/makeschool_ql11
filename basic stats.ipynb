{
 "cells": [
  {
   "cell_type": "code",
   "execution_count": 82,
   "metadata": {},
   "outputs": [],
   "source": [
    "from collections import namedtuple\n",
    "from dataclasses import dataclass\n",
    "from functools import reduce\n",
    "from heapq import heappush, heappop\n",
    "from math import floor, ceil\n",
    "from pprint import pprint as print\n",
    "import numpy as np\n",
    "\n",
    "\n",
    "DDOF = 1\n",
    "\n",
    "def correlation(arr0, arr1, ddof=DDOF):\n",
    "    return covariance(arr0, arr1, ddof=ddof) / (stdev(arr0) * stdev(arr1))\n",
    "\n",
    "def counter(arr):\n",
    "    res = {}\n",
    "    for val in arr:\n",
    "        res[val] = res.get(val, 0) + 1\n",
    "    return res\n",
    "\n",
    "def covariance(arr0, arr1, ddof=DDOF):\n",
    "    \n",
    "    if len(arr0) != len(arr1):\n",
    "        raise ValueError(f'Lengths of arrays {arr0} and {arr1} must be the same.')\n",
    "    arr0_mean = mean(arr0)\n",
    "    arr1_mean = mean(arr1)\n",
    "    return (sum(tuple((arr0_elm - arr0_mean)*(arr1_elm - arr1_mean) \n",
    "                      for arr0_elm, arr1_elm in zip(arr0, arr1))) / (len(arr0) - ddof))\n",
    "\n",
    "def cov_mat(*arrays, ddof=DDOF):\n",
    "    res = [[None for _ in range(len(arrays))] for _ in range(len(arrays))]\n",
    "    \n",
    "    for i in range(len(arrays)):\n",
    "        for j in range(len(arrays)):\n",
    "            if res[i][j] is None:\n",
    "                res[i][j] = covariance(arrays[i], arrays[j])\n",
    "                print(f'{i} {j}')\n",
    "                print(res)\n",
    "                #res[i][j] = res[j][i]\n",
    "    return res\n",
    "    \n",
    "def mean_(arr):\n",
    "    return sum(arr) / len(arr)\n",
    "\n",
    "def mean(arr):\n",
    "    return reduce(lambda x,y: x+y, arr, 0) / len(arr)\n",
    "\n",
    "def median(arr):\n",
    "    if not len(arr):\n",
    "        return\n",
    "    sorted_arr = sorted(arr)\n",
    "    mid = len(arr) / 2 - .5\n",
    "    return mean((sorted_arr[floor(mid)],sorted_arr[ceil(mid)]))\n",
    "\n",
    "def mode(arr):\n",
    "    counts = counter(arr) #Counter(arr)\n",
    "    Count = namedtuple('Count', 'elm count')\n",
    "    maxes = [Count(None, float('-inf'))]\n",
    "\n",
    "    for elm, count in counts.items():\n",
    "        if count == maxes[0].count:\n",
    "            maxes.append(Count(elm, count))\n",
    "        elif count > maxes[0].count:\n",
    "            maxes = [Count(elm, count)]\n",
    "    #return tuple(count.elm for count in maxes)\n",
    "    return maxes[0].count\n",
    "\n",
    "def variance(arr, ddof=DDOF):\n",
    "    _mean = mean(arr)\n",
    "    return reduce(lambda x,y: x + (y - _mean)**2, arr, 0) / (len(arr) - ddof)\n",
    "\n",
    "def vector_add(arr0, arr1):\n",
    "    for x,y in zip(arr0, arr1):\n",
    "        yield x+y\n",
    "\n",
    "def stdev(arr, ddof=DDOF):\n",
    "    return variance(arr, ddof=ddof)**.5\n",
    "\n",
    "class Spread:\n",
    "    @staticmethod\n",
    "    def range(arr):\n",
    "        return max(arr) - min(arr)\n",
    "\n",
    "class OnlineMedian:\n",
    "    \n",
    "    def __init__(self):\n",
    "        self.min_heap = []\n",
    "        self.max_heap = []\n",
    "    \n",
    "    def add(self, elm):\n",
    "        \n",
    "        if not len(self.max_heap):\n",
    "            self.max_heap.append(-elm)\n",
    "            return\n",
    "        heappush(self.max_heap, -elm) if elm < -self.max_heap[0] else heappush(self.min_heap, elm)\n",
    "        \n",
    "        if len(self.max_heap) - len(self.min_heap) > 1:\n",
    "            heappush(self.min_heap, -heappop(self.max_heap))\n",
    "        elif len(self.min_heap) - len(self.max_heap) > 1:\n",
    "            heappush(self.max_heap, -heappop(self.min_heap))\n",
    "            \n",
    "    @property\n",
    "    def median(self):\n",
    "        \n",
    "        if len(self.max_heap) == len(self.min_heap):\n",
    "            if len(self.max_heap) == 0:\n",
    "                return\n",
    "            return (-self.max_heap[0] + self.min_heap[0]) / 2\n",
    "        elif len(self.max_heap) > len(self.min_heap):\n",
    "            return -self.max_heap[0]\n",
    "        return self.min_heap[0]"
   ]
  },
  {
   "cell_type": "code",
   "execution_count": 39,
   "metadata": {},
   "outputs": [],
   "source": [
    "arr = (1,4,4,123,345,4,213,34,2,897,4)\n",
    "assert mean_(arr) == mean(arr)\n",
    "assert mode(arr) == 4 #(4,)\n",
    "online_median = OnlineMedian()\n",
    "\n",
    "for num in arr:\n",
    "    online_median.add(num)\n",
    "\n",
    "assert online_median.median == median(arr)\n",
    "\n",
    "arr = (1, 1, 1, 2, 2, 2)\n",
    "assert mode(arr) == 3 #(1,2)\n",
    "\n",
    "online_median = OnlineMedian()\n",
    "\n",
    "for num in arr:\n",
    "    online_median.add(num)\n",
    "assert online_median.median == 1.5"
   ]
  },
  {
   "cell_type": "markdown",
   "metadata": {},
   "source": [
    "##### test variance"
   ]
  },
  {
   "cell_type": "code",
   "execution_count": null,
   "metadata": {},
   "outputs": [],
   "source": [
    "from numpy import var\n"
   ]
  },
  {
   "cell_type": "markdown",
   "metadata": {},
   "source": [
    "##### test standard deviation"
   ]
  },
  {
   "cell_type": "code",
   "execution_count": 30,
   "metadata": {},
   "outputs": [],
   "source": [
    "from numpy import std\n",
    "arr = (42,435,234,2,32,454,6)\n",
    "assert std(arr) == stdev(arr)\n",
    "assert std(arr, ddof=1) == stdev(arr, ddof=1)"
   ]
  },
  {
   "cell_type": "code",
   "execution_count": 37,
   "metadata": {},
   "outputs": [
    {
     "name": "stdout",
     "output_type": "stream",
     "text": [
      "a\n",
      "    mean: 32.0\n",
      "  median: 32.0\n",
      "    mode: 1\n",
      "variance: 12.5\n",
      "   stdev: 3.5355339059327378\n",
      "b\n",
      "    mean: 32.0\n",
      "  median: 30.0\n",
      "    mode: 1\n",
      "variance: 324.5\n",
      "   stdev: 18.01388353465182\n",
      "c\n",
      "    mean: 32.0\n",
      "  median: 32.0\n",
      "    mode: 5\n",
      "variance: 0.0\n",
      "   stdev: 0.0\n"
     ]
    }
   ],
   "source": [
    "def describe(arr):\n",
    "    print(f'    mean: {mean(arr)}\\n'\n",
    "          f'  median: {median(arr)}\\n'\n",
    "          f'    mode: {mode(arr)}\\n'\n",
    "          f'variance: {variance(arr, ddof=1)}\\n'\n",
    "          f'   stdev: {stdev(arr, ddof=1)}')\n",
    "city_a = [29,28,32,35,36]\n",
    "city_b = [12,18,30,45,55]\n",
    "city_c = [32, 32, 32, 32, 32]\n",
    "\n",
    "print('a')\n",
    "describe(city_a)\n",
    "print('b')\n",
    "describe(city_b)\n",
    "print('c')\n",
    "describe(city_c)"
   ]
  },
  {
   "cell_type": "code",
   "execution_count": 53,
   "metadata": {},
   "outputs": [],
   "source": [
    "class Line:\n",
    "    def __init__(self, slope, y_intercept):\n",
    "        self.slope = slope\n",
    "        self.y_intercept = y_intercept\n",
    "        \n",
    "    def y(self, x):\n",
    "        return self.slope*x + self.y_intercept\n",
    "    \n",
    "# Running Distance in Mile\n",
    "X = np.array([3.3,4.4,5.5,6.71,6.93,4.168,9.779,6.182,7.59,2.167,\n",
    "                         7.042,10.791,5.313,7.997,5.654,9.27,3.1])\n",
    "\n",
    "# Water Drinks in Litre\n",
    "Y = np.array([1.7,2.76,2.09,3.19,1.694,1.573,3.366,2.596,2.53,1.221,\n",
    "                         2.827,3.465,1.65,2.904,2.42,2.94,1.3])\n",
    "\n",
    "line = Line(.25163494, .79880123)\n",
    "Y_ = np.array([line.y(x) for x in X])"
   ]
  },
  {
   "cell_type": "code",
   "execution_count": 55,
   "metadata": {},
   "outputs": [
    {
     "data": {
      "text/plain": [
       "[<matplotlib.lines.Line2D at 0x120024fd0>]"
      ]
     },
     "execution_count": 55,
     "metadata": {},
     "output_type": "execute_result"
    },
    {
     "data": {
      "image/png": "[encoded data removed]",
      "text/plain": [
       "<Figure size 432x288 with 1 Axes>"
      ]
     },
     "metadata": {},
     "output_type": "display_data"
    }
   ],
   "source": [
    "import seaborn as sns\n",
    "import matplotlib.pyplot as plt\n",
    "sns.set(style=\"darkgrid\")\n",
    "plt.scatter(X, Y)\n",
    "plt.plot(X, Y_, 'g-')"
   ]
  },
  {
   "cell_type": "code",
   "execution_count": 56,
   "metadata": {},
   "outputs": [
    {
     "data": {
      "text/plain": [
       "0.15385767404191164"
      ]
     },
     "execution_count": 56,
     "metadata": {},
     "output_type": "execute_result"
    }
   ],
   "source": [
    "mse = lambda actual, expected: mean([(y - y_)**2 for y, y_ in zip(actual, expected)])\n",
    "mse(Y, Y_)"
   ]
  },
  {
   "cell_type": "markdown",
   "metadata": {},
   "source": [
    "### percentile"
   ]
  },
  {
   "cell_type": "code",
   "execution_count": 91,
   "metadata": {},
   "outputs": [],
   "source": [
    "data = sorted(city_a + city_b + city_c)\n",
    "percentile_val = lambda data, p: data[int(np.ceil((p / 100) * len(data)))]"
   ]
  },
  {
   "cell_type": "markdown",
   "metadata": {},
   "source": [
    "##### test percentile"
   ]
  },
  {
   "cell_type": "code",
   "execution_count": 94,
   "metadata": {},
   "outputs": [],
   "source": [
    "def check_percentile(arr, val, percentile):\n",
    "    num_elms_less_than_val = sum(1 for x in arr if x < val)\n",
    "    actual = np.ceil(num_elms_less_than_val / len(arr))\n",
    "    return actual == np.ceil(percentile / 100)\n",
    "assert check_percentile(data, percentile_val(data, 70), 70)"
   ]
  },
  {
   "cell_type": "code",
   "execution_count": 99,
   "metadata": {},
   "outputs": [
    {
     "data": {
      "text/plain": [
       "30.808076923076925"
      ]
     },
     "execution_count": 99,
     "metadata": {},
     "output_type": "execute_result"
    }
   ],
   "source": [
    "num_females = 61\n",
    "female_avg = 28.34\n",
    "num_males = 69\n",
    "male_avg = 32.99\n",
    "total = num_females + num_males\n",
    "\n",
    "mean(((num_females/total)*female_avg, (num_males/total)*male_avg)) * 2"
   ]
  },
  {
   "cell_type": "markdown",
   "metadata": {},
   "source": [
    "##### test covariance"
   ]
  },
  {
   "cell_type": "code",
   "execution_count": 107,
   "metadata": {},
   "outputs": [
    {
     "name": "stdout",
     "output_type": "stream",
     "text": [
      "'0 0'\n",
      "[[0.0, None, None], [None, None, None], [None, None, None]]\n",
      "'0 1'\n",
      "[[0.0, 0.0, None], [None, None, None], [None, None, None]]\n",
      "'0 2'\n",
      "[[0.0, 0.0, 0.0], [None, None, None], [None, None, None]]\n",
      "'1 0'\n",
      "[[0.0, 0.0, 0.0], [0.0, None, None], [None, None, None]]\n",
      "'1 1'\n",
      "[[0.0, 0.0, 0.0], [0.0, 1.6666666666666667, None], [None, None, None]]\n",
      "'1 2'\n",
      "[[0.0, 0.0, 0.0],\n",
      " [0.0, 1.6666666666666667, 1.1666666666666667],\n",
      " [None, None, None]]\n",
      "'2 0'\n",
      "[[0.0, 0.0, 0.0],\n",
      " [0.0, 1.6666666666666667, 1.1666666666666667],\n",
      " [0.0, None, None]]\n",
      "'2 1'\n",
      "[[0.0, 0.0, 0.0],\n",
      " [0.0, 1.6666666666666667, 1.1666666666666667],\n",
      " [0.0, 1.1666666666666667, None]]\n",
      "'2 2'\n",
      "[[0.0, 0.0, 0.0],\n",
      " [0.0, 1.6666666666666667, 1.1666666666666667],\n",
      " [0.0, 1.1666666666666667, 0.9166666666666666]]\n"
     ]
    },
    {
     "ename": "AssertionError",
     "evalue": "",
     "output_type": "error",
     "traceback": [
      "\u001b[0;31m---------------------------------------------------------------------------\u001b[0m",
      "\u001b[0;31mAssertionError\u001b[0m                            Traceback (most recent call last)",
      "\u001b[0;32m<ipython-input-107-6bfbdcea3f31>\u001b[0m in \u001b[0;36m<module>\u001b[0;34m\u001b[0m\n\u001b[1;32m     17\u001b[0m     \u001b[0;32mreturn\u001b[0m \u001b[0mtuple\u001b[0m\u001b[0;34m(\u001b[0m\u001b[0marr\u001b[0m\u001b[0;34m)\u001b[0m \u001b[0;31m# Return original otherwise\u001b[0m\u001b[0;34m\u001b[0m\u001b[0;34m\u001b[0m\u001b[0m\n\u001b[1;32m     18\u001b[0m \u001b[0;34m\u001b[0m\u001b[0m\n\u001b[0;32m---> 19\u001b[0;31m \u001b[0;32massert\u001b[0m \u001b[0mrecur_round\u001b[0m\u001b[0;34m(\u001b[0m\u001b[0mcov_mat\u001b[0m\u001b[0;34m(\u001b[0m\u001b[0mX\u001b[0m\u001b[0;34m,\u001b[0m \u001b[0mY\u001b[0m\u001b[0;34m,\u001b[0m \u001b[0mZ\u001b[0m\u001b[0;34m)\u001b[0m\u001b[0;34m,\u001b[0m \u001b[0;36m3\u001b[0m\u001b[0;34m)\u001b[0m \u001b[0;34m==\u001b[0m \u001b[0;34m(\u001b[0m\u001b[0;34m(\u001b[0m\u001b[0;36m0\u001b[0m\u001b[0;34m,\u001b[0m \u001b[0;36m0\u001b[0m\u001b[0;34m,\u001b[0m \u001b[0;36m0\u001b[0m\u001b[0;34m)\u001b[0m\u001b[0;34m,\u001b[0m \u001b[0;34m(\u001b[0m\u001b[0;36m0\u001b[0m\u001b[0;34m,\u001b[0m \u001b[0;36m1.667\u001b[0m\u001b[0;34m,\u001b[0m \u001b[0;36m1.167\u001b[0m\u001b[0;34m)\u001b[0m\u001b[0;34m,\u001b[0m \u001b[0;34m(\u001b[0m\u001b[0;36m0\u001b[0m\u001b[0;34m,\u001b[0m \u001b[0;36m1.167\u001b[0m\u001b[0;34m,\u001b[0m \u001b[0;36m0.917\u001b[0m\u001b[0;34m)\u001b[0m\u001b[0;34m)\u001b[0m\u001b[0;34m\u001b[0m\u001b[0;34m\u001b[0m\u001b[0m\n\u001b[0m",
      "\u001b[0;31mAssertionError\u001b[0m: "
     ]
    }
   ],
   "source": [
    "X = (1, 1, 1, 1)\n",
    "Y = (1, 2, 3, 4)\n",
    "Z = (1, 1, 2, 3)\n",
    "\n",
    "assert round(covariance(Y, Z, ddof=1), 5) == 1.16667\n",
    "assert variance(X) == covariance(X, X)\n",
    "assert variance(Y) == covariance(Y, Y)\n",
    "assert variance(Z) == covariance(Z, Z)\n",
    "\n",
    "def recur_round(arr, dec_places=0):\n",
    "    if all(isinstance(elm, float) for elm in arr):\n",
    "        # Everything in arr is int\n",
    "        return tuple(round(elm, dec_places) for elm in arr)\n",
    "    elif all(isinstance(elm, (tuple, list)) for elm in arr):\n",
    "        # Everything in arr is either tuple or list\n",
    "        return tuple(recur_round(_arr) for _arr in arr)\n",
    "    return tuple(arr) # Return original otherwise\n",
    "\n",
    "assert recur_round(cov_mat(X, Y, Z), 3) == ((0, 0, 0), (0, 1.667, 1.167), (0, 1.167, 0.917))"
   ]
  },
  {
   "cell_type": "code",
   "execution_count": 109,
   "metadata": {},
   "outputs": [
    {
     "data": {
      "text/plain": [
       "((0.0, 0.0, 0.0), (0.0, 2.0, 1.0), (0.0, 1.0, 1.0))"
      ]
     },
     "execution_count": 109,
     "metadata": {},
     "output_type": "execute_result"
    }
   ],
   "source": [
    "recur_round([[0.0, 0.0, 0.0],\n",
    " [0.0, 1.6666666666666667, 1.1666666666666667],\n",
    " [0.0, 1.1666666666666667, 0.9166666666666666]], 4)"
   ]
  },
  {
   "cell_type": "code",
   "execution_count": 79,
   "metadata": {},
   "outputs": [
    {
     "data": {
      "text/plain": [
       "0.8323917528894436"
      ]
     },
     "execution_count": 79,
     "metadata": {},
     "output_type": "execute_result"
    }
   ],
   "source": [
    "# Running Distance in Mile\n",
    "X = np.array([3.3,4.4,5.5,6.71,6.93,4.168,9.779,6.182,7.59,2.167,\n",
    "                         7.042,10.791,5.313,7.997,5.654,9.27,3.1])\n",
    "\n",
    "# Water Drinks in Litre\n",
    "Y = np.array([1.7,2.76,2.09,3.19,1.694,1.573,3.366,2.596,2.53,1.221,\n",
    "                         2.827,3.465,1.65,2.904,2.42,2.94,1.3])\n"
   ]
  },
  {
   "cell_type": "code",
   "execution_count": 81,
   "metadata": {},
   "outputs": [
    {
     "data": {
      "text/plain": [
       "1.7607236855873312"
      ]
     },
     "execution_count": 81,
     "metadata": {},
     "output_type": "execute_result"
    }
   ],
   "source": [
    "covariance(X,Y) / correlation(X, Y)"
   ]
  },
  {
   "cell_type": "code",
   "execution_count": null,
   "metadata": {},
   "outputs": [],
   "source": []
  }
 ],
 "metadata": {
  "kernelspec": {
   "display_name": "Python 3",
   "language": "python",
   "name": "python3"
  },
  "language_info": {
   "codemirror_mode": {
    "name": "ipython",
    "version": 3
   },
   "file_extension": ".py",
   "mimetype": "text/x-python",
   "name": "python",
   "nbconvert_exporter": "python",
   "pygments_lexer": "ipython3",
   "version": "3.8.1"
  }
 },
 "nbformat": 4,
 "nbformat_minor": 2
}
